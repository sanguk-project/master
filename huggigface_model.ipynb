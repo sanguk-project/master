{
 "cells": [
  {
   "cell_type": "code",
   "execution_count": 2,
   "id": "60d67b23-4642-415b-ab30-095d5ee42ab5",
   "metadata": {},
   "outputs": [
    {
     "name": "stdout",
     "output_type": "stream",
     "text": [
      "The token has not been saved to the git credentials helper. Pass `add_to_git_credential=True` in this function directly or `--add-to-git-credential` if using via `huggingface-cli` if you want to set the git credential as well.\n",
      "Token is valid (permission: write).\n",
      "The token `supark` has been saved to /root/.cache/huggingface/stored_tokens\n",
      "Your token has been saved to /root/.cache/huggingface/token\n",
      "Login successful.\n",
      "The current active token is: `supark`\n"
     ]
    }
   ],
   "source": [
    "# HuggingFace 로그인 - 실제 사용 시 본인의 토큰으로 교체하세요\n",
    "# !huggingface-cli login --token YOUR_HF_TOKEN\n",
    "print(\"⚠️ 보안상의 이유로 실제 토큰이 제거되었습니다. 본인의 HuggingFace 토큰을 사용하세요.\")"
   ]
  },
  {
   "cell_type": "code",
   "execution_count": 3,
   "id": "1af6fdae-cf84-4ea4-aeb1-15732883ea6d",
   "metadata": {},
   "outputs": [
    {
     "data": {
      "application/vnd.jupyter.widget-view+json": {
       "model_id": "641de248242240c698e910e96f261df1",
       "version_major": 2,
       "version_minor": 0
      },
      "text/plain": [
       "optimizer.pt:   0%|          | 0.00/13.2M [00:00<?, ?B/s]"
      ]
     },
     "metadata": {},
     "output_type": "display_data"
    },
    {
     "data": {
      "application/vnd.jupyter.widget-view+json": {
       "model_id": "3dc9a353f3014bdd8ae7b1fc03f046ad",
       "version_major": 2,
       "version_minor": 0
      },
      "text/plain": [
       "tokenizer.json:   0%|          | 0.00/17.2M [00:00<?, ?B/s]"
      ]
     },
     "metadata": {},
     "output_type": "display_data"
    },
    {
     "data": {
      "application/vnd.jupyter.widget-view+json": {
       "model_id": "e710b9b59b1945b1924de0b5cbe931b0",
       "version_major": 2,
       "version_minor": 0
      },
      "text/plain": [
       "rng_state.pth:   0%|          | 0.00/14.2k [00:00<?, ?B/s]"
      ]
     },
     "metadata": {},
     "output_type": "display_data"
    },
    {
     "data": {
      "application/vnd.jupyter.widget-view+json": {
       "model_id": "71aee70743bb4cfc943409c38c91be41",
       "version_major": 2,
       "version_minor": 0
      },
      "text/plain": [
       "adapter_model.safetensors:   0%|          | 0.00/25.7M [00:00<?, ?B/s]"
      ]
     },
     "metadata": {},
     "output_type": "display_data"
    },
    {
     "data": {
      "application/vnd.jupyter.widget-view+json": {
       "model_id": "fd9e54ecc52f493a960ee0d99081560f",
       "version_major": 2,
       "version_minor": 0
      },
      "text/plain": [
       "training_args.bin:   0%|          | 0.00/5.50k [00:00<?, ?B/s]"
      ]
     },
     "metadata": {},
     "output_type": "display_data"
    },
    {
     "data": {
      "application/vnd.jupyter.widget-view+json": {
       "model_id": "48e5d69c4a4a41a0a771b4284e505573",
       "version_major": 2,
       "version_minor": 0
      },
      "text/plain": [
       "scheduler.pt:   0%|          | 0.00/1.06k [00:00<?, ?B/s]"
      ]
     },
     "metadata": {},
     "output_type": "display_data"
    },
    {
     "name": "stdout",
     "output_type": "stream",
     "text": [
      "All files uploaded successfully!\n"
     ]
    }
   ],
   "source": [
    "from huggingface_hub import HfApi\n",
    "import os\n",
    "\n",
    "# Initialize the Hugging Face API\n",
    "api = HfApi()\n",
    "\n",
    "# Define your repository name\n",
    "repo_id = \"iljoo/fine-tuning-test-descending-bllossom-llama-3.2-3B\"\n",
    "\n",
    "# 모델 체크포인트 경로\n",
    "checkpoint_dir = \"/workspace/fine-tuning-test/model/fine-tuning-test-descending-bllossom-llama-3.2-3B\"\n",
    "\n",
    "# 파일 업로드 루프\n",
    "for filename in os.listdir(checkpoint_dir):\n",
    "    file_path = os.path.join(checkpoint_dir, filename)\n",
    "    \n",
    "    # 파일인지 확인\n",
    "    if os.path.isfile(file_path):\n",
    "        # 파일 업로드 (경로에 디렉토리 구조 없이 바로 업로드)\n",
    "        api.upload_file(\n",
    "            path_or_fileobj=file_path,\n",
    "            path_in_repo=filename,  # 디렉토리 없이 파일만 저장\n",
    "            repo_id=repo_id,\n",
    "            commit_message=f\"Upload {filename} from checkpoint-13500\"\n",
    "        )\n",
    "\n",
    "print(\"All files uploaded successfully!\")"
   ]
  }
 ],
 "metadata": {
  "kernelspec": {
   "display_name": "Python 3 (ipykernel)",
   "language": "python",
   "name": "python3"
  },
  "language_info": {
   "codemirror_mode": {
    "name": "ipython",
    "version": 3
   },
   "file_extension": ".py",
   "mimetype": "text/x-python",
   "name": "python",
   "nbconvert_exporter": "python",
   "pygments_lexer": "ipython3",
   "version": "3.10.12"
  }
 },
 "nbformat": 4,
 "nbformat_minor": 5
}
