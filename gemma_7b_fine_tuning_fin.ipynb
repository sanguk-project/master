{
 "cells": [
  {
   "cell_type": "code",
   "execution_count": 1,
   "metadata": {},
   "outputs": [
    {
     "name": "stdout",
     "output_type": "stream",
     "text": [
      "The token has not been saved to the git credentials helper. Pass `add_to_git_credential=True` in this function directly or `--add-to-git-credential` if using via `huggingface-cli` if you want to set the git credential as well.\n",
      "Token is valid (permission: write).\n",
      "The token `llm` has been saved to /root/.cache/huggingface/stored_tokens\n",
      "Your token has been saved to /root/.cache/huggingface/token\n",
      "Login successful.\n",
      "The current active token is: `llm`\n"
     ]
    }
   ],
   "source": [
    "# HuggingFace 로그인 - 실제 사용 시 본인의 토큰으로 교체하세요\n",
    "# !huggingface-cli login --token YOUR_HF_TOKEN\n",
    "print(\"⚠️ 보안상의 이유로 실제 토큰이 제거되었습니다. 본인의 HuggingFace 토큰을 사용하세요.\")"
   ]
  },
  {
   "attachments": {},
   "cell_type": "markdown",
   "metadata": {},
   "source": [
    "## 데이터셋 불러오기"
   ]
  },
  {
   "cell_type": "code",
   "execution_count": 2,
   "metadata": {},
   "outputs": [
    {
     "name": "stdout",
     "output_type": "stream",
     "text": [
      "데이터셋 생성 완료\n",
      "Dataset({\n",
      "    features: ['text'],\n",
      "    num_rows: 4000\n",
      "})\n"
     ]
    }
   ],
   "source": [
    "import jsonlines\n",
    "from datasets import Dataset\n",
    "\n",
    "# JSONLines 파일 경로\n",
    "jsonl_path = \"/workspace/dataset/train_data.jsonl\"\n",
    "\n",
    "# JSONLines 파일을 읽어서 데이터셋 생성\n",
    "indataset = []\n",
    "with jsonlines.open(jsonl_path) as f:\n",
    "    for lineno, line in enumerate(f.iter(), start=1):\n",
    "        try:\n",
    "            # 템플릿에 따라 instruction과 response 형식을 맞춰서 저장\n",
    "            template = \"Instruction:\\n{instruction}\\n\\nResponse:\\n{response}\"\n",
    "            indataset.append(template.format(**line))\n",
    "        except Exception as e:\n",
    "            # 문제가 있는 줄과 오류를 출력하여 확인\n",
    "            print(f\"Error at line {lineno}: {e}\")\n",
    "\n",
    "# 데이터셋 확인\n",
    "print('데이터셋 생성 완료')\n",
    "\n",
    "# Hugging Face Dataset으로 변환\n",
    "indataset = Dataset.from_dict({'text': indataset})\n",
    "\n",
    "# 데이터셋 정보 확인\n",
    "print(indataset)\n"
   ]
  },
  {
   "attachments": {},
   "cell_type": "markdown",
   "metadata": {},
   "source": [
    "## Gemma 7B 모델 파인튜닝"
   ]
  },
  {
   "cell_type": "code",
   "execution_count": 3,
   "metadata": {},
   "outputs": [],
   "source": [
    "import torch\n",
    "\n",
    "from transformers import (\n",
    "    AutoModelForCausalLM,\n",
    "    AutoTokenizer,\n",
    "    BitsAndBytesConfig,\n",
    ")"
   ]
  },
  {
   "cell_type": "code",
   "execution_count": 4,
   "metadata": {},
   "outputs": [],
   "source": [
    "# Hugging Face Basic Mode\n",
    "# base_model = \"google/gemma-7b\"\n",
    "# base_model = \"google/gemma-7b-it\"\n",
    "# base_model = \"google/codegemma-7b\"\n",
    "base_model = \"google/codegemma-7b-it\""
   ]
  },
  {
   "attachments": {},
   "cell_type": "markdown",
   "metadata": {},
   "source": [
    "#### 4비트 양자화 QLoRA 설정"
   ]
  },
  {
   "cell_type": "code",
   "execution_count": 5,
   "metadata": {},
   "outputs": [
    {
     "name": "stdout",
     "output_type": "stream",
     "text": [
      "CUDA device capability is 8 or higher. Installing flash-attn.\n",
      "flash-attn installed successfully. Using flash_attention_2 with torch.bfloat16.\n"
     ]
    }
   ],
   "source": [
    "if torch.cuda.get_device_capability()[0] >= 8:\n",
    "    print(\"CUDA device capability is 8 or higher. Installing flash-attn.\")\n",
    "    !pip install -qqq flash-attn\n",
    "    attn_implementation = \"flash_attention_2\"\n",
    "    torch_dtype = torch.bfloat16\n",
    "    print(\"flash-attn installed successfully. Using flash_attention_2 with torch.bfloat16.\")\n",
    "else:\n",
    "    print(\"CUDA device capability is below 8. Using eager mode.\")\n",
    "    attn_implementation = \"eager\"\n",
    "    torch_dtype = torch.float16\n",
    "    print(\"Using eager implementation with torch.float16.\")\n",
    "\n",
    "\n",
    "# QLoRA config\n",
    "# quant_config = None\n",
    "\n",
    "# QLoRA config\n",
    "quant_config = BitsAndBytesConfig(\n",
    "    load_in_4bit=True,\n",
    "    bnb_4bit_quant_type=\"nf4\",\n",
    "    bnb_4bit_compute_dtype=torch_dtype,\n",
    "    bnb_4bit_use_double_quant=False,\n",
    ")"
   ]
  },
  {
   "attachments": {},
   "cell_type": "markdown",
   "metadata": {},
   "source": [
    "#### Gemma 7B 모델 불러오기"
   ]
  },
  {
   "cell_type": "code",
   "execution_count": 6,
   "metadata": {},
   "outputs": [
    {
     "name": "stdout",
     "output_type": "stream",
     "text": [
      "Available GPUs: 1\n",
      "GPU 0: NVIDIA H100 NVL\n"
     ]
    },
    {
     "name": "stderr",
     "output_type": "stream",
     "text": [
      "2024-11-12 08:55:33.944071: E external/local_xla/xla/stream_executor/cuda/cuda_fft.cc:477] Unable to register cuFFT factory: Attempting to register factory for plugin cuFFT when one has already been registered\n",
      "WARNING: All log messages before absl::InitializeLog() is called are written to STDERR\n",
      "E0000 00:00:1731401733.957303   19766 cuda_dnn.cc:8310] Unable to register cuDNN factory: Attempting to register factory for plugin cuDNN when one has already been registered\n",
      "E0000 00:00:1731401733.960889   19766 cuda_blas.cc:1418] Unable to register cuBLAS factory: Attempting to register factory for plugin cuBLAS when one has already been registered\n",
      "2024-11-12 08:55:33.976156: I tensorflow/core/platform/cpu_feature_guard.cc:210] This TensorFlow binary is optimized to use available CPU instructions in performance-critical operations.\n",
      "To enable the following instructions: AVX2 AVX512F AVX512_VNNI AVX512_BF16 AVX512_FP16 AVX_VNNI AMX_TILE AMX_INT8 AMX_BF16 FMA, in other operations, rebuild TensorFlow with the appropriate compiler flags.\n"
     ]
    },
    {
     "data": {
      "application/vnd.jupyter.widget-view+json": {
       "model_id": "e427e5999e9649458ec2eff64b0d1a34",
       "version_major": 2,
       "version_minor": 0
      },
      "text/plain": [
       "Loading checkpoint shards:   0%|          | 0/4 [00:00<?, ?it/s]"
      ]
     },
     "metadata": {},
     "output_type": "display_data"
    }
   ],
   "source": [
    "# GPU 개수 및 이름 확인\n",
    "\n",
    "# API 토큰 설정 - 실제 사용 시 환경변수로 설정하세요\n",
    "# api_token = os.getenv(\"HUGGINGFACE_TOKEN\")\n",
    "api_token = \"YOUR_HF_TOKEN\"  # 실제 토큰으로 교체하세요\n",
    "\n",
    "if torch.cuda.is_available():\n",
    "    num_gpus = torch.cuda.device_count()\n",
    "    print(f\"Available GPUs: {num_gpus}\")\n",
    "    for i in range(num_gpus):\n",
    "        print(f\"GPU {i}: {torch.cuda.get_device_name(i)}\")\n",
    "else:\n",
    "    print(\"No GPU available. Using CPU.\")\n",
    "\n",
    "model = AutoModelForCausalLM.from_pretrained(\n",
    "    base_model,\n",
    "    quantization_config=quant_config,\n",
    "    # device_map={\"\": 0},\n",
    "    device_map=\"auto\",\n",
    "    # device_map=\"balanced\"\n",
    "    token=api_token   \n",
    ")\n",
    "\n",
    "model.config.use_cache = False\n",
    "model.config.pretraining_tp = 1"
   ]
  },
  {
   "cell_type": "code",
   "execution_count": 7,
   "metadata": {},
   "outputs": [
    {
     "data": {
      "text/plain": [
       "GemmaForCausalLM(\n",
       "  (model): GemmaModel(\n",
       "    (embed_tokens): Embedding(256000, 3072, padding_idx=0)\n",
       "    (layers): ModuleList(\n",
       "      (0-27): 28 x GemmaDecoderLayer(\n",
       "        (self_attn): GemmaSdpaAttention(\n",
       "          (q_proj): Linear4bit(in_features=3072, out_features=4096, bias=False)\n",
       "          (k_proj): Linear4bit(in_features=3072, out_features=4096, bias=False)\n",
       "          (v_proj): Linear4bit(in_features=3072, out_features=4096, bias=False)\n",
       "          (o_proj): Linear4bit(in_features=4096, out_features=3072, bias=False)\n",
       "          (rotary_emb): GemmaRotaryEmbedding()\n",
       "        )\n",
       "        (mlp): GemmaMLP(\n",
       "          (gate_proj): Linear4bit(in_features=3072, out_features=24576, bias=False)\n",
       "          (up_proj): Linear4bit(in_features=3072, out_features=24576, bias=False)\n",
       "          (down_proj): Linear4bit(in_features=24576, out_features=3072, bias=False)\n",
       "          (act_fn): PytorchGELUTanh()\n",
       "        )\n",
       "        (input_layernorm): GemmaRMSNorm((3072,), eps=1e-06)\n",
       "        (post_attention_layernorm): GemmaRMSNorm((3072,), eps=1e-06)\n",
       "      )\n",
       "    )\n",
       "    (norm): GemmaRMSNorm((3072,), eps=1e-06)\n",
       "  )\n",
       "  (lm_head): Linear(in_features=3072, out_features=256000, bias=False)\n",
       ")"
      ]
     },
     "execution_count": 7,
     "metadata": {},
     "output_type": "execute_result"
    }
   ],
   "source": [
    "model"
   ]
  },
  {
   "cell_type": "markdown",
   "metadata": {},
   "source": [
    "## 토크나이저 불러오기"
   ]
  },
  {
   "cell_type": "code",
   "execution_count": 8,
   "metadata": {},
   "outputs": [],
   "source": [
    "tokenizer = AutoTokenizer.from_pretrained(base_model, trust_remote_code=True, token=api_token) # huggingfase hub에서 제공하는 사용자 정의된 토크나이저 코드를 신뢰하고 실행\n",
    "tokenizer.pad_token = tokenizer.eos_token # 시퀀스 길이를 맞추기 위해 문장 끝에 eos_token 사용\n",
    "tokenizer.padding_side = \"right\" # 패딩 토큰을 시퀀스 어느 쪽에 할지"
   ]
  },
  {
   "cell_type": "code",
   "execution_count": 9,
   "metadata": {},
   "outputs": [
    {
     "name": "stdout",
     "output_type": "stream",
     "text": [
      "trainable params: 2,408,448 || all params: 8,540,089,344 || trainable%: 0.0282\n"
     ]
    }
   ],
   "source": [
    "from peft import get_peft_model, LoraConfig\n",
    "\n",
    "peft_params = LoraConfig(\n",
    "    lora_alpha=16, # 스케일링 파라미터\n",
    "    lora_dropout=0.1,\n",
    "    r=4, # 저차원 공간의 크기\n",
    "    bias=\"none\", # 편향 학습 유무\n",
    "    task_type=\"CAUSAL_LM\", # GPT 계열 모델\n",
    "    target_modules=[\"q_proj\", \"v_proj\", \"k_proj\", \"out_proj\", \"fc_in\", \"fc_out\"] # query와 projection 레이어를 의미 (\"q_proj\", \"v_proj\", \"k_proj\", \"out_proj\", \"fc_in\", \"fc_out\")\n",
    ")\n",
    "\n",
    "model = get_peft_model(model, peft_params)\n",
    "model.print_trainable_parameters()"
   ]
  },
  {
   "cell_type": "markdown",
   "metadata": {},
   "source": [
    "## Fine-tuning 파라미터"
   ]
  },
  {
   "cell_type": "code",
   "execution_count": 2,
   "metadata": {},
   "outputs": [
    {
     "ename": "NameError",
     "evalue": "name 'model' is not defined",
     "output_type": "error",
     "traceback": [
      "\u001b[0;31m---------------------------------------------------------------------------\u001b[0m",
      "\u001b[0;31mNameError\u001b[0m                                 Traceback (most recent call last)",
      "Cell \u001b[0;32mIn[2], line 38\u001b[0m\n\u001b[1;32m     16\u001b[0m training_params \u001b[38;5;241m=\u001b[39m TrainingArguments(\n\u001b[1;32m     17\u001b[0m     output_dir\u001b[38;5;241m=\u001b[39msft_config\u001b[38;5;241m.\u001b[39moutput_dir,\n\u001b[1;32m     18\u001b[0m     num_train_epochs\u001b[38;5;241m=\u001b[39m\u001b[38;5;241m25\u001b[39m,                          \u001b[38;5;66;03m# 전체 데이터셋을 몇 번 반복할지 설정하는 epoch\u001b[39;00m\n\u001b[0;32m   (...)\u001b[0m\n\u001b[1;32m     33\u001b[0m     report_to\u001b[38;5;241m=\u001b[39m\u001b[38;5;124m\"\u001b[39m\u001b[38;5;124mtensorboard\u001b[39m\u001b[38;5;124m\"\u001b[39m                       \u001b[38;5;66;03m# 로그 기록 툴 \u001b[39;00m\n\u001b[1;32m     34\u001b[0m )\n\u001b[1;32m     36\u001b[0m \u001b[38;5;66;03m# 파인 튜닝 트레이너\u001b[39;00m\n\u001b[1;32m     37\u001b[0m trainer \u001b[38;5;241m=\u001b[39m SFTTrainer(\n\u001b[0;32m---> 38\u001b[0m     model\u001b[38;5;241m=\u001b[39m\u001b[43mmodel\u001b[49m,\n\u001b[1;32m     39\u001b[0m     train_dataset\u001b[38;5;241m=\u001b[39mindataset, \n\u001b[1;32m     40\u001b[0m     tokenizer\u001b[38;5;241m=\u001b[39mtokenizer,\n\u001b[1;32m     41\u001b[0m     args\u001b[38;5;241m=\u001b[39mtraining_params,\n\u001b[1;32m     42\u001b[0m     dataset_text_field\u001b[38;5;241m=\u001b[39msft_config\u001b[38;5;241m.\u001b[39mdataset_text_field,  \u001b[38;5;66;03m# SFTConfig에서 설정한 텍스트 필드\u001b[39;00m\n\u001b[1;32m     43\u001b[0m )\n",
      "\u001b[0;31mNameError\u001b[0m: name 'model' is not defined"
     ]
    }
   ],
   "source": [
    "import os\n",
    "from trl import SFTConfig, SFTTrainer\n",
    "from transformers import TrainingArguments\n",
    "\n",
    "model_path = os.path.join(\"/mnt/ssd/1/hub\", \"models--iljoodeephub-Bllossom--llama-3.2-Korean-Bllossom-3B_bf16_lr16_qlr4\")\n",
    "\n",
    "# SFTConfig 설정\n",
    "sft_config = SFTConfig(\n",
    "    output_dir=model_path,\n",
    "    dataset_text_field=\"text\",  # 텍스트 필드 지정\n",
    "    max_seq_length=512,        # 최대 시퀀스 길이 설정\n",
    "    packing=False               # 입력 시퀀스의 길이에 따라 배치 그룹화 설정\n",
    ")\n",
    "\n",
    "# TrainingArguments 설정\n",
    "training_params = TrainingArguments(\n",
    "    output_dir=sft_config.output_dir,\n",
    "    num_train_epochs=25,                          # 전체 데이터셋을 몇 번 반복할지 설정하는 epoch\n",
    "    per_device_train_batch_size=8,               # 각 GPU(또는 CPU)에서 학습할 때 사용하는 배치 크기 설정 \n",
    "    gradient_accumulation_steps=1,                # 그래디언트 누적 단계 설정 \n",
    "    optim=\"paged_adamw_8bit\",                     # 옵티마이저 / 최적화 알고리즘으로 Adam2 사용\n",
    "    save_steps=100000,                            # 몇 step 마다 모델을 저장할지 설정하는 파라미터 \n",
    "    logging_steps=100000,                         # 학습 중 로그를 기록하는 빈도를 설정\n",
    "    learning_rate=2e-4,                           # 학습률 설정 \n",
    "    weight_decay=0.001,                           # 가중치 감쇠 설정 (모델의 가중치를 정규화하여 과적합 방지에 사용)\n",
    "    fp16=False,                                   # 반정밀도(float16) 연산을 사용할지 여부 \n",
    "    bf16=True,                                    # bfloat16 연산을 사용할지 여부 \n",
    "    max_grad_norm=0.3,                            # gradient clipping을 위한 최대 노름 값 설정 (gradient 폭주 방지)\n",
    "    max_steps=-1,                                 # 학습 종료 시 최대 스텝 수 설정 / -1은 스텝 수로 학습을 제한하지 않음 \n",
    "    warmup_ratio=0.03,                            # 학습률 워밍업의 비율을 설정 / 학습 초기 단계에서 점진적으로 학습률을 증가시켜 안정적인 학습을 유도\n",
    "    group_by_length=sft_config.packing,           # SFTConfig의 packing 설정을 사용\n",
    "    lr_scheduler_type=\"constant\",                 # 학습률 스케줄러의 유형 설정 \n",
    "    report_to=\"tensorboard\"                       # 로그 기록 툴 \n",
    ")\n",
    "\n",
    "# 파인 튜닝 트레이너\n",
    "trainer = SFTTrainer(\n",
    "    model=model,\n",
    "    train_dataset=indataset, \n",
    "    tokenizer=tokenizer,\n",
    "    args=training_params,\n",
    "    dataset_text_field=sft_config.dataset_text_field,  # SFTConfig에서 설정한 텍스트 필드\n",
    ")"
   ]
  },
  {
   "cell_type": "code",
   "execution_count": 11,
   "metadata": {},
   "outputs": [
    {
     "data": {
      "text/html": [
       "\n",
       "    <div>\n",
       "      \n",
       "      <progress value='50000' max='50000' style='width:300px; height:20px; vertical-align: middle;'></progress>\n",
       "      [50000/50000 6:54:24, Epoch 50/50]\n",
       "    </div>\n",
       "    <table border=\"1\" class=\"dataframe\">\n",
       "  <thead>\n",
       " <tr style=\"text-align: left;\">\n",
       "      <th>Step</th>\n",
       "      <th>Training Loss</th>\n",
       "    </tr>\n",
       "  </thead>\n",
       "  <tbody>\n",
       "  </tbody>\n",
       "</table><p>"
      ],
      "text/plain": [
       "<IPython.core.display.HTML object>"
      ]
     },
     "metadata": {},
     "output_type": "display_data"
    },
    {
     "data": {
      "text/plain": [
       "TrainOutput(global_step=50000, training_loss=0.28052732421875, metrics={'train_runtime': 24864.5629, 'train_samples_per_second': 8.044, 'train_steps_per_second': 2.011, 'total_flos': 4.475197204101882e+18, 'train_loss': 0.28052732421875, 'epoch': 50.0})"
      ]
     },
     "execution_count": 11,
     "metadata": {},
     "output_type": "execute_result"
    }
   ],
   "source": [
    "trainer.train()"
   ]
  }
 ],
 "metadata": {
  "kernelspec": {
   "display_name": "sanguk-WEz904Hl",
   "language": "python",
   "name": "python3"
  },
  "language_info": {
   "codemirror_mode": {
    "name": "ipython",
    "version": 3
   },
   "file_extension": ".py",
   "mimetype": "text/x-python",
   "name": "python",
   "nbconvert_exporter": "python",
   "pygments_lexer": "ipython3",
   "version": "3.12.3"
  }
 },
 "nbformat": 4,
 "nbformat_minor": 4
}
